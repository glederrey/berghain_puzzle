{
  "cells": [
    {
      "cell_type": "markdown",
      "metadata": {},
      "source": [
        "# Berghain Puzzle - Step-by-Step Game Runner\n",
        "\n",
        "This notebook provides an interactive, step-by-step environment for running the Berghain bouncer puzzle with real-time feedback and visualization.\n"
      ]
    },
    {
      "cell_type": "code",
      "execution_count": null,
      "metadata": {},
      "outputs": [],
      "source": [
        "%load_ext autoreload\n",
        "%autoreload 2"
      ]
    },
    {
      "cell_type": "code",
      "execution_count": null,
      "metadata": {},
      "outputs": [],
      "source": [
        "# Import required libraries\n",
        "import sys\n",
        "import os\n",
        "\n",
        "# Add src to path so we can import our modules (go up one level from notebooks/)\n",
        "sys.path.append('../src')\n",
        "\n",
        "from berghain import BerghainAPI\n",
        "from berghain.strategies import (\n",
        "    RandomStrategy, \n",
        "    AlwaysAcceptStrategy, \n",
        "    ConstraintAwareStrategy, \n",
        "    Scenario1Strategy,\n",
        ")\n",
        "from berghain import GameRunner\n",
        "from berghain import BerghainVisualizer\n",
        "\n",
        "import pandas as pd\n",
        "import numpy as np\n",
        "from dotenv import load_dotenv\n",
        "\n",
        "# Load environment variables (go up one level to find .env)\n",
        "load_dotenv('../.env')\n",
        "\n",
        "print(\"✅ All imports successful!\")\n"
      ]
    },
    {
      "cell_type": "markdown",
      "metadata": {},
      "source": [
        "## Setup\n",
        "\n",
        "Initialize the API client, choose your strategy, and set up the game runner.\n"
      ]
    },
    {
      "cell_type": "code",
      "execution_count": null,
      "metadata": {},
      "outputs": [],
      "source": [
        "# Initialize API client with the real ListenLabs endpoint\n",
        "API_BASE_URL = \"https://berghain.challenges.listenlabs.ai\"\n",
        "\n",
        "try:\n",
        "    api = BerghainAPI(base_url=API_BASE_URL)\n",
        "    print(f\"✅ API client initialized with Player ID: {api.player_id}\")\n",
        "except Exception as e:\n",
        "    print(f\"⚠️  API client initialization failed: {e}\")\n",
        "    print(\"This might happen if the .env file is not found or API is not accessible.\")\n",
        "    api = None\n",
        "\n",
        "# Initialize visualizer\n",
        "visualizer = BerghainVisualizer()\n",
        "print(\"✅ Visualizer initialized\")\n",
        "\n",
        "# Choose your strategy here\n",
        "STRATEGY = Scenario1Strategy()  # Change this to test different strategies\n",
        "print(f\"🎯 Selected strategy: {STRATEGY.get_name()}\")\n",
        "\n",
        "# Initialize game runner\n",
        "if api is not None:\n",
        "    runner = GameRunner(api, STRATEGY)\n",
        "    print(\"✅ Game runner initialized\")\n",
        "else:\n",
        "    runner = None\n",
        "    print(\"⚠️  Game runner not initialized - API not available\")\n"
      ]
    },
    {
      "cell_type": "markdown",
      "metadata": {},
      "source": [
        "## Start New Game\n",
        "\n",
        "Choose a scenario and start the game to see constraints and initial setup.\n"
      ]
    },
    {
      "cell_type": "code",
      "execution_count": null,
      "metadata": {},
      "outputs": [],
      "source": [
        "# Choose scenario and start game\n",
        "SCENARIO = 1  # Change this to 1, 2, or 3\n",
        "\n",
        "if runner is not None:\n",
        "    try:\n",
        "        game_state = runner.start_game(SCENARIO)\n",
        "        print(f\"\\n🎮 Game started for Scenario {SCENARIO}!\")\n",
        "    except Exception as e:\n",
        "        print(f\"❌ Error starting game: {e}\")\n",
        "        game_state = None\n",
        "else:\n",
        "    print(\"⚠️  Cannot start game - runner not available\")\n",
        "    game_state = None\n"
      ]
    },
    {
      "cell_type": "markdown",
      "metadata": {},
      "source": [
        "## View Constraints Only\n",
        "\n",
        "If you want to see just the constraints without the full game info.\n"
      ]
    },
    {
      "cell_type": "code",
      "execution_count": null,
      "metadata": {},
      "outputs": [],
      "source": [
        "# View just the constraints for this scenario\n",
        "if runner is not None and runner.game_started:\n",
        "    runner.display_constraints_only()\n",
        "else:\n",
        "    print(\"⚠️  Start a game first to see constraints\")\n"
      ]
    },
    {
      "cell_type": "markdown",
      "metadata": {},
      "source": [
        "## Run Game Steps\n",
        "\n",
        "Execute the game step by step. You can control how many steps to run at once.\n"
      ]
    },
    {
      "cell_type": "code",
      "execution_count": null,
      "metadata": {},
      "outputs": [],
      "source": [
        "# Run some steps (change the number as needed)\n",
        "NUM_STEPS = 500  # Change this to run more or fewer steps\n",
        "\n",
        "if runner is not None and runner.game_started and not runner.game_completed:\n",
        "    print(f\"🚀 Running {NUM_STEPS} steps...\")\n",
        "    step_records = runner.step(NUM_STEPS, show_progress=False)\n",
        "    print(f\"\\n✅ Completed {len(step_records)} steps\")\n",
        "    \n",
        "    # Show updated game status\n",
        "    runner.display_game_info()\n",
        "else:\n",
        "    print(\"⚠️  Cannot run steps - game not started or already completed\")\n"
      ]
    },
    {
      "cell_type": "markdown",
      "metadata": {},
      "source": [
        "## Live Visualization\n",
        "\n",
        "Visualize current game progress and constraint satisfaction in real-time.\n"
      ]
    },
    {
      "cell_type": "code",
      "execution_count": null,
      "metadata": {},
      "outputs": [],
      "source": [
        "# Create live visualizations\n",
        "if runner is not None and runner.game_started:\n",
        "    dashboard = visualizer.create_live_dashboard(runner)\n",
        "    dashboard.show()\n",
        "else:\n",
        "    print(\"⚠️  No game data to visualize yet\")\n"
      ]
    },
    {
      "cell_type": "markdown",
      "metadata": {},
      "source": [
        "## Analyze People Data\n",
        "\n",
        "Examine the people you've seen so far - who was admitted, who was rejected, and their attributes.\n"
      ]
    },
    {
      "cell_type": "code",
      "execution_count": null,
      "metadata": {},
      "outputs": [],
      "source": [
        "# Analyze people data\n",
        "if runner is not None and runner.game_started:\n",
        "    all_people = runner.get_people_seen()\n",
        "    admitted_people = runner.get_admitted_people()\n",
        "    rejected_people = runner.get_rejected_people()\n",
        "    \n",
        "    print(f\"📊 PEOPLE ANALYSIS\")\n",
        "    print(f\"Total people seen: {len(all_people)}\")\n",
        "    print(f\"Admitted: {len(admitted_people)}\")\n",
        "    print(f\"Rejected: {len(rejected_people)}\")\n",
        "    \n",
        "    if len(all_people) > 0:\n",
        "        print(f\"\\n👥 Recent people (last 10):\")\n",
        "        for person in all_people[-10:]:\n",
        "            decision_emoji = \"✅\" if person.decision else \"❌\"\n",
        "            attrs = \", \".join([f\"{k}:{v}\" for k, v in person.attributes.items()])\n",
        "            print(f\"  {decision_emoji} Person #{person.person_index}: [{attrs}]\")\n",
        "        \n",
        "        # Create DataFrame for analysis\n",
        "        people_df = pd.DataFrame([\n",
        "            {\n",
        "                'person_index': p.person_index,\n",
        "                'decision': p.decision,\n",
        "                **p.attributes\n",
        "            }\n",
        "            for p in all_people\n",
        "        ])\n",
        "        \n",
        "        print(f\"\\n📈 Admission rates by attribute:\")\n",
        "        for col in people_df.columns:\n",
        "            if col not in ['person_index', 'decision']:\n",
        "                true_admits = people_df[(people_df[col] == True) & (people_df['decision'] == True)]\n",
        "                true_total = people_df[people_df[col] == True]\n",
        "                \n",
        "                if len(true_total) > 0:\n",
        "                    admit_rate = len(true_admits) / len(true_total) * 100\n",
        "                    print(f\"  {col}=True: {admit_rate:.1f}% admitted ({len(true_admits)}/{len(true_total)})\")\n",
        "else:\n",
        "    print(\"⚠️  No people data available yet\")\n"
      ]
    },
    {
      "cell_type": "markdown",
      "metadata": {},
      "source": [
        "## Save Game State\n",
        "\n",
        "Save your current progress to continue later or for analysis.\n"
      ]
    },
    {
      "cell_type": "code",
      "execution_count": null,
      "metadata": {},
      "outputs": [],
      "source": [
        "# Save current game state\n",
        "if runner is not None and runner.game_started:\n",
        "    try:\n",
        "        filename = runner.save_game_state()\n",
        "        print(f\"💾 Game state saved to: {filename}\")\n",
        "        \n",
        "        # Show game summary\n",
        "        summary = runner.get_game_summary()\n",
        "        print(f\"\\n📋 GAME SUMMARY:\")\n",
        "        print(f\"Strategy: {summary['strategy']}\")\n",
        "        print(f\"Steps taken: {summary['steps_taken']}\")\n",
        "        print(f\"Success: {summary['success']}\")\n",
        "        print(f\"Game status: {summary['status']}\")\n",
        "        \n",
        "    except Exception as e:\n",
        "        print(f\"❌ Error saving game state: {e}\")\n",
        "else:\n",
        "    print(\"⚠️  No game to save\")\n"
      ]
    },
    {
      "cell_type": "markdown",
      "metadata": {},
      "source": [
        "## Quick Commands\n",
        "\n",
        "Useful commands for game management:\n",
        "\n",
        "- **To run more steps**: Go back to the \"Run Game Steps\" cell and change `NUM_STEPS`\n",
        "- **To restart**: Set `runner.reset()` and then start a new game\n",
        "- **To change strategy**: Modify `STRATEGY` in the setup and create a new runner\n",
        "- **To view full game info**: Run `runner.display_game_info()`\n",
        "- **To check remaining people**: Check `runner.game_state.next_person`\n"
      ]
    }
  ],
  "metadata": {
    "kernelspec": {
      "display_name": ".venv",
      "language": "python",
      "name": "python3"
    },
    "language_info": {
      "codemirror_mode": {
        "name": "ipython",
        "version": 3
      },
      "file_extension": ".py",
      "mimetype": "text/x-python",
      "name": "python",
      "nbconvert_exporter": "python",
      "pygments_lexer": "ipython3",
      "version": "3.13.7"
    }
  },
  "nbformat": 4,
  "nbformat_minor": 2
}
